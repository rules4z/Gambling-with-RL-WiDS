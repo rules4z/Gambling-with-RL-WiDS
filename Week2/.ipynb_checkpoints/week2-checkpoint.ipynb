{
 "cells": [
  {
   "cell_type": "markdown",
   "metadata": {},
   "source": [
    "### Assignment : Week 2\n",
    "## Finding best policies in simple MDPs\n",
    "\n",
    "Great work making the MDPs in Week 1!\n",
    "\n",
    "In this assignment, we'll use the simplest RL techniques - Policy and Value iteration to find the best policies (which maximize the discounted total reward) in our MDPs from last week.\n",
    "\n",
    "Feel free to use your own MDPs, or import them from the OpenAI Gym library.\n",
    "\n",
    "You can start this assignment during/after reading Grokking Ch-3.\n",
    "\n",
    "For this you have to install gymnasium, which is an API standard for reinforcement learning with a diverse collection of reference environments. This can be easily done by running:\n",
    "\n",
    "    pip install gymnasium"
   ]
  },
  {
   "cell_type": "markdown",
   "metadata": {},
   "source": [
    "## Frozen Lake\n",
    "\n",
    "Let's now try to solve the Frozen Lake environment for some cases"
   ]
  },
  {
   "cell_type": "code",
   "execution_count": null,
   "metadata": {},
   "outputs": [],
   "source": [
    "# Step 0 is to import stuff\n",
    "\n",
    "import gymnasium as gym\n",
    "import numpy as np\n",
    "from gymnasium.envs.toy_text.frozen_lake import generate_random_map"
   ]
  },
  {
   "cell_type": "code",
   "execution_count": null,
   "metadata": {},
   "outputs": [],
   "source": [
    "# Step 1 is to get the MDP\n",
    "env = gym.make('FrozenLake-v1', desc=None, map_name=\"4x4\", is_slippery=True)\n",
    "env = env.unwrapped\n",
    "mdp_transitions = env.P\n",
    "init_state = env.reset()\n",
    "goal_state = 15"
   ]
  },
  {
   "cell_type": "code",
   "execution_count": null,
   "metadata": {},
   "outputs": [],
   "source": [
    "# Step 2 is to write the policy\n",
    "\n",
    "# This is according to the convention of gymnasium\n",
    "LEFT, DOWN, RIGHT, UP = range(4)\n",
    "pi = {\n",
    "    0:RIGHT, 1:RIGHT, 2:DOWN, 3:LEFT,\n",
    "    4:DOWN, 5:LEFT, 6:DOWN, 7:LEFT,\n",
    "    8:RIGHT, 9:RIGHT, 10:DOWN, 11:LEFT,\n",
    "    12:LEFT, 13:RIGHT, 14:RIGHT, 15:LEFT\n",
    "}\n",
    "\n",
    "# Or you can do it randomly\n",
    "# pi = dict()\n",
    "# for state in mdp:\n",
    "#     pi[state] = np.random.choice(mdp[state].keys())"
   ]
  },
  {
   "cell_type": "code",
   "execution_count": null,
   "metadata": {},
   "outputs": [],
   "source": [
    "# Step 3 is computing the value function for this envi and policy\n",
    "\n",
    "# Let us start with a random value function\n",
    "\n",
    "val = dict()\n",
    "for state in mdp_transitions:\n",
    "    val[state] = np.random.random()\n",
    "\n",
    "# Since 5, 7, 11, 12 and 15 are terminal states, we know their values are 0\n",
    "\n",
    "val[5] = 0\n",
    "val[7] = 0\n",
    "val[11] = 0\n",
    "val[12] = 0\n",
    "val[15] = 0\n",
    "\n",
    "#Or you could do it randomly, remember to set the terminal states to 0. You can also implement this while evaluating the value function using \n",
    "# val = dict()\n",
    "# for state in mdp:\n",
    "#     val[state] = np.random.random()\n",
    "#     if mdp[state][0][0][0] == 0: # if the first action in the first outcome of the first state is 0, then it is a terminal state\n",
    "#         val[state] = 0\n",
    "\n",
    "#instead of doing thsi you can simply intialize the value function to 0 for all states \n",
    "# for state in swf_mdp:\n",
    "#   val[state] = 0"
   ]
  },
  {
   "cell_type": "code",
   "execution_count": 3,
   "metadata": {},
   "outputs": [],
   "source": [
    "def get_new_value_fn(val, mdp, pi, gamma = 1.0):\n",
    "    new_val = dict()\n",
    "    # Complete this function to get the new value function given the old value function and the policy\n",
    "    for state in mdp:\n",
    "        new_val[state]=0\n",
    "        for act in mdp[state]:\n",
    "            for prob, next_state, reward, term in mdp[state][act]:\n",
    "                new_val[state]+=prob*(reward + gamma*val[next_state]*(not term))\n",
    "    return new_val"
   ]
  },
  {
   "cell_type": "code",
   "execution_count": 6,
   "metadata": {},
   "outputs": [],
   "source": [
    "#Use to above function to get the new value function, also print how many iterations it took to converge\n",
    "def policy_evaluation(val, mdp, pi, epsilon=1e-10, gamma=1.0):\n",
    "    count = 0\n",
    "    # Complete this function to iteratively caluculate the value function until the difference between the new and old value function is less than epsilon\n",
    "    # Also return the number of iterations it took to converge\n",
    "    #(could've used do-while if existed)\n",
    "    while True:\n",
    "        rep=val.copy()\n",
    "        val=get_new_value_fn(val, mdp, pi, gamma)\n",
    "        count+=1\n",
    "        if np.max(np.abs(rep-val<epsilon)):\n",
    "            break\n",
    "    return val, count "
   ]
  },
  {
   "cell_type": "code",
   "execution_count": null,
   "metadata": {},
   "outputs": [],
   "source": [
    "# Perform policy improvement using the polivy and the value function and return a new policy, the action value function should be a nested dictionary\n",
    "def policy_improvement(val, mdp, pi, gamma=1.0):\n",
    "    new_pi = dict()\n",
    "    q = dict()\n",
    "    # Complete this function to get the new policy given the value function and the mdp\n",
    "    for state in mdp:\n",
    "        q[state]={}\n",
    "        for act in mdp[state]:\n",
    "            q[state][act]=0\n",
    "            for prob, next_state, reward, term in mdp[state][act]:\n",
    "                q[state][act]+=prob*(reward + gamma*val[next_state]*(not done))\n",
    "        new_pi[state] = max(q[state], key=q[state].get)\n",
    "    return new_pi, q\n"
   ]
  },
  {
   "cell_type": "code",
   "execution_count": null,
   "metadata": {},
   "outputs": [],
   "source": [
    "# Use the above functions to get the optimal policy and optimal value function and return the total number of iterations it took to converge\n",
    "# Create a random policy and value function to start with or use the ones defined above\n",
    "def policy_iteration(mdp, epsilon=1e-10, gamma=1.0):\n",
    "    LEFT, DOWN, RIGHT, UP = 0, 1, 2, 3\n",
    "    pi = dict()\n",
    "    val = dict()\n",
    "    count = 0\n",
    "    for state in mdp:\n",
    "        val[state]=np.random.random()\n",
    "        if mdp[state][0][0][3]==True:\n",
    "            val[state]=0\n",
    "        pi[state]=np.random.choice([LEFT, DOWN , RIGHT, UP])\n",
    "        \n",
    "    while True:\n",
    "        prev_pi=pi.copy()\n",
    "        val=policy_evaluation(val, mdp, pi, epsilon, gamma)[0]\n",
    "        pi=policy_improvement(val, mdp, pi, gamma)[0]\n",
    "        count+=1\n",
    "        if(prev_pi==pi): #if pi is a dictionary\n",
    "            break\n",
    "    # Complete this function to get the optimal policy and value function and return the total number of iterations it took to converge\n",
    "    return pi, val, count"
   ]
  },
  {
   "cell_type": "code",
   "execution_count": null,
   "metadata": {},
   "outputs": [],
   "source": [
    "#Now perform value iteration, note that the value function is a dictionary and not a list, also return the number of iterations it took to converge\n",
    "def value_iteration(mdp, gamma=1.0, epsilon=1e-10):\n",
    "    val = {s: 0 for s in mdp}\n",
    "    count = 0\n",
    "    q = dict()\n",
    "    q = {state: {act: 0 for act in mdp[state]} for state in mdp}\n",
    "    # Complete this function to get the optimal policy, optimal value function and return the total number of iterations it took to converge\n",
    "    while True:\n",
    "        for state in mdp:\n",
    "            for act in mdp[state]:\n",
    "                q[state][act]=0\n",
    "                for prob, next_state, reward, term in mdp[state][act]:\n",
    "                    q[state][act]+=prob*(reward+gamma*val[next_state]*(not term))\n",
    "        if max(abs(val[s]-max(q[s])) for s in val):\n",
    "            break\n",
    "        val = {s: max(q[s].values()) for s in mdp}\n",
    "    pi = {s: max(q[s], key=q[s].get) for s in mdp}\n",
    "    count+=1\n",
    "    return pi, val, count\n",
    "    "
   ]
  },
  {
   "cell_type": "code",
   "execution_count": 2,
   "metadata": {},
   "outputs": [],
   "source": [
    "#Function to print the policy you got after running the policy iteration or value iteration on the 4x4 FrozenLake environment\n",
    "def print_policy(policy, env):\n",
    "    \"\"\"\n",
    "    Prints the policy for the 4x4 FrozenLake environment in a grid layout.\n",
    "    \"\"\"\n",
    "    action_symbols = {0: '←', 1: '↓', 2: '→', 3: '↑'}  #action symbols\n",
    "    grid_size = env.desc.shape  #get the grid dimensions (e.g., 4x4)\n",
    "    \n",
    "    policy_symbols = np.array([action_symbols[action] for cell,action in policy.items()])\n",
    "    policy_grid = policy_symbols.reshape(grid_size)  #reshape into a grid\n",
    "\n",
    "    print(\"Policy Grid:\")\n",
    "    for row in policy_grid:\n",
    "        print(\" \".join(row))\n"
   ]
  },
  {
   "cell_type": "code",
   "execution_count": null,
   "metadata": {},
   "outputs": [],
   "source": [
    "pi1, val1, count1 = policy_iteration(mdp)\n",
    "pi2, val2, count2 = value_iteration(mdp)\n"
   ]
  },
  {
   "cell_type": "markdown",
   "metadata": {},
   "source": [
    "You can also write a function `test_policy()` to test your policy after training to find the number of times you reached the goal state"
   ]
  },
  {
   "cell_type": "code",
   "execution_count": null,
   "metadata": {},
   "outputs": [],
   "source": [
    "def test_policy(pi, env, goalstate):\n",
    "    # Complete this function to test the policy\n",
    "    #displays the success rate after 100 episodes\n",
    "    episodes=100\n",
    "    suc=0\n",
    "    for i in range(episodes):\n",
    "        state=env.reset()\n",
    "        done=False\n",
    "        while not done:\n",
    "            action==pi[state]\n",
    "            state,_, done, _=env.step(action)\n",
    "            if state==goalstate\n",
    "                suc+=1\n",
    "                break\n",
    "    print(suc)\n",
    "    return\n"
   ]
  }
 ],
 "metadata": {
  "kernelspec": {
   "display_name": "Python 3 (ipykernel)",
   "language": "python",
   "name": "python3"
  },
  "language_info": {
   "codemirror_mode": {
    "name": "ipython",
    "version": 3
   },
   "file_extension": ".py",
   "mimetype": "text/x-python",
   "name": "python",
   "nbconvert_exporter": "python",
   "pygments_lexer": "ipython3",
   "version": "3.13.1"
  }
 },
 "nbformat": 4,
 "nbformat_minor": 4
}
